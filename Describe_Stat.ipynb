{
  "nbformat": 4,
  "nbformat_minor": 0,
  "metadata": {
    "colab": {
      "provenance": [],
      "authorship_tag": "ABX9TyNFmJQ0+yLP/NSZvjVpcwx0",
      "include_colab_link": true
    },
    "kernelspec": {
      "name": "python3",
      "display_name": "Python 3"
    },
    "language_info": {
      "name": "python"
    }
  },
  "cells": [
    {
      "cell_type": "markdown",
      "metadata": {
        "id": "view-in-github",
        "colab_type": "text"
      },
      "source": [
        "<a href=\"https://colab.research.google.com/github/pardeshiaarti/Computer-Fundamentals/blob/main/Describe_Stat.ipynb\" target=\"_parent\"><img src=\"https://colab.research.google.com/assets/colab-badge.svg\" alt=\"Open In Colab\"/></a>"
      ]
    },
    {
      "cell_type": "code",
      "execution_count": null,
      "metadata": {
        "colab": {
          "base_uri": "https://localhost:8080/"
        },
        "id": "bjy0M2pS3DlX",
        "outputId": "48f19703-7238-4b10-d558-a6b225db0ba7"
      },
      "outputs": [
        {
          "output_type": "stream",
          "name": "stdout",
          "text": [
            "Mean: 50.57218734964286\n",
            "Mode: 0.39519423445681934\n",
            "Variance: 794.8465572676558\n",
            "Standard Deviation: 28.193023201984847\n"
          ]
        }
      ],
      "source": [
        "import pandas as pd\n",
        "import numpy as np\n",
        "from scipy import stats\n",
        "\n",
        "# Load the Excel file\n",
        "file_name = \"/content/stat1.xlsx\"\n",
        "data = pd.read_excel(file_name)\n",
        "\n",
        "# Assuming the numbers are in the first column\n",
        "numbers = data.iloc[:, 0]  # Fetch the first column\n",
        "\n",
        "# Calculations\n",
        "# Perform calculations\n",
        "mean = np.mean(numbers)\n",
        "mode = stats.mode(numbers, keepdims=True).mode[0]  # Extract the mode value\n",
        "variance = np.var(numbers, ddof=0)  # Population variance\n",
        "std_deviation = np.std(numbers, ddof=0)  # Population standard deviation\n",
        "\n",
        "# Output\n",
        "print(\"Mean:\", mean)\n",
        "print(\"Mode:\", mode)\n",
        "print(\"Variance:\", variance)\n",
        "print(\"Standard Deviation:\", std_deviation)\n"
      ]
    }
  ]
}